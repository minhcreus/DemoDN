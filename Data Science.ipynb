{
  "metadata": {
    "kernelspec": {
      "name": "python",
      "display_name": "Python (Pyodide)",
      "language": "python"
    },
    "language_info": {
      "codemirror_mode": {
        "name": "python",
        "version": 3
      },
      "file_extension": ".py",
      "mimetype": "text/x-python",
      "name": "python",
      "nbconvert_exporter": "python",
      "pygments_lexer": "ipython3",
      "version": "3.8"
    }
  },
  "nbformat_minor": 4,
  "nbformat": 4,
  "cells": [
    {
      "cell_type": "code",
      "source": "# Data Science Notebook\n\n",
      "metadata": {
        "trusted": true
      },
      "outputs": [],
      "execution_count": 2
    },
    {
      "cell_type": "code",
      "source": "## Introduction\n - Introducing\n",
      "metadata": {
        "trusted": true
      },
      "outputs": [],
      "execution_count": null
    },
    {
      "cell_type": "code",
      "source": "## Data Science Languages\n- Python\n- R\n- SQL\n- Julia\n- Java\n",
      "metadata": {
        "trusted": true
      },
      "outputs": [
        {
          "ename": "<class 'NameError'>",
          "evalue": "name 'Python' is not defined",
          "traceback": [
            "\u001b[0;31m---------------------------------------------------------------------------\u001b[0m",
            "\u001b[0;31mNameError\u001b[0m                                 Traceback (most recent call last)",
            "Cell \u001b[0;32mIn[3], line 2\u001b[0m\n\u001b[1;32m      1\u001b[0m \u001b[38;5;66;03m## Data Science Languages\u001b[39;00m\n\u001b[0;32m----> 2\u001b[0m \u001b[38;5;241m-\u001b[39m \u001b[43mPython\u001b[49m\n\u001b[1;32m      3\u001b[0m \u001b[38;5;241m-\u001b[39m R\n\u001b[1;32m      4\u001b[0m \u001b[38;5;241m-\u001b[39m SQL\n",
            "\u001b[0;31mNameError\u001b[0m: name 'Python' is not defined"
          ],
          "output_type": "error"
        }
      ],
      "execution_count": 3
    },
    {
      "cell_type": "code",
      "source": "## Data Science Libraries\n- Pandas\n- NumPy\n- Matplotlib\n- Scikit-Learn\n- TensorFlow\n\n",
      "metadata": {
        "trusted": true
      },
      "outputs": [],
      "execution_count": null
    },
    {
      "cell_type": "code",
      "source": "## Data Science Tools\n| Tool          | Purpose             |\n|---------------|---------------------|\n| Jupyter       | Notebook environment|\n| RStudio       | IDE for R           |\n| GitHub        | Version control     |\n| TensorBoard   | Model visualization |\n| Apache Spark  | Big data processing |\n",
      "metadata": {
        "trusted": true
      },
      "outputs": [],
      "execution_count": null
    },
    {
      "cell_type": "code",
      "source": "# Examples of arithmetic operations\naddition = 5 + 3\nsubtraction = 10 - 2\nmultiplication = 4 * 2\ndivision = 16 / 2\nexponentiation = 2 ** 3\n\naddition, subtraction, multiplication, division, exponentiation\n",
      "metadata": {
        "trusted": true
      },
      "outputs": [
        {
          "execution_count": 8,
          "output_type": "execute_result",
          "data": {
            "text/plain": "(8, 8, 8, 8.0, 8)"
          },
          "metadata": {}
        }
      ],
      "execution_count": 8
    },
    {
      "cell_type": "code",
      "source": "# Multiply and add numbers\na = 5\nb = 10\naddition = a + b\nmultiplication = a * b\naddition, multiplication\n",
      "metadata": {
        "trusted": true
      },
      "outputs": [
        {
          "execution_count": 4,
          "output_type": "execute_result",
          "data": {
            "text/plain": "(15, 50)"
          },
          "metadata": {}
        }
      ],
      "execution_count": 4
    },
    {
      "cell_type": "code",
      "source": "# Convert minutes to hours\nminutes = 150\nhours = minutes / 60\nhours\n",
      "metadata": {
        "trusted": true
      },
      "outputs": [
        {
          "execution_count": 5,
          "output_type": "execute_result",
          "data": {
            "text/plain": "2.5"
          },
          "metadata": {}
        }
      ],
      "execution_count": 5
    },
    {
      "cell_type": "code",
      "source": "## Objectives\n- Learn about popular data science languages\n- Familiarize with key data science libraries and tools\n- Perform basic arithmetic operations\n- Convert time units\n",
      "metadata": {
        "trusted": true
      },
      "outputs": [],
      "execution_count": null
    },
    {
      "cell_type": "code",
      "source": "**Author**: Minh Nhat Nguyen",
      "metadata": {
        "trusted": true
      },
      "outputs": [],
      "execution_count": null
    }
  ]
}